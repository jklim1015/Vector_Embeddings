{
 "cells": [
  {
   "cell_type": "markdown",
   "id": "18da16e2",
   "metadata": {},
   "source": [
    "# Applying Vector Embeddings to GUFI Snapshots\n",
    "\n",
    "## Objective\n",
    "\n",
    "The goal of this notebook is to analyze and compare **GUFI snapshots** of Linux kernel indexes (in this case) using vector embeddings. By extracting key metadata features and applying embedding techniques, we aim to uncover temporal and structural relationships between snapshots. These insights can help quantify differences in filesystem characteristics across Linux kernel versions.\n",
    "\n",
    "### Why Vector Embeddings?\n",
    "\n",
    "GUFI snapshots contain extensive metadata, such as file sizes, access times, permissions, and more. To analyze this metadata efficiently:\n",
    "- We treat each snapshot as a **high-dimensional vector**, where each dimension represents a feature.\n",
    "- **Vector embeddings** reduce these high-dimensional representations into lower-dimensional space, making them easier to compare and visualize.\n",
    "\n",
    "### Key Steps:\n",
    "1. Load and process snapshot data from GUFI indexes.\n",
    "2. Extract and normalize key metadata features.\n",
    "3. Apply dimensionality reduction techniques to create embeddings.\n",
    "4. Compare embeddings using distance/similarity metrics (e.g., Euclidean distance, Cosine similarity).\n",
    "5. Visualize results using heatmaps to highlight relationships between snapshots.\n",
    "\n",
    "### Importance:\n",
    "- Helps identify temporal trends or changes in Linux kernel indexes.\n",
    "- Quantifies similarities and differences between snapshots, providing actionable insights into filesystem evolution.\n",
    "- Demonstrates a scalable approach to analyzing large-scale metadata for future applications.\n",
    "\n",
    "---\n",
    "\n",
    "\n"
   ]
  },
  {
   "cell_type": "markdown",
   "id": "2a1b2aff",
   "metadata": {},
   "source": [
    "### Imports"
   ]
  },
  {
   "cell_type": "code",
   "execution_count": 484,
   "id": "a26ae37e",
   "metadata": {},
   "outputs": [],
   "source": [
    "import sqlite3\n",
    "import pandas as pd\n",
    "import numpy as np\n",
    "from sklearn.preprocessing import MinMaxScaler\n",
    "from sklearn.preprocessing import StandardScaler\n",
    "from sklearn.decomposition import PCA\n",
    "import matplotlib.pyplot as plt\n",
    "import seaborn as sns\n",
    "from sklearn.manifold import TSNE\n",
    "from sklearn.metrics.pairwise import cosine_similarity\n",
    "#import umap.umap_ as umap\n",
    "#from sklearn.cluster import KMeans"
   ]
  },
  {
   "cell_type": "markdown",
   "id": "4820695c",
   "metadata": {},
   "source": [
    "### 1. Load and process GUFI snapshots\n",
    "\n",
    "We have **GUFI snapshots** of various Linux kernels, ranging from **version 3 to version 6**, with the goal of showcasing the **temporal changes** between differing Linux kernel versions. By loading and processing these snapshots, we aim to extract key metadata features and prepare the data for embedding techniques that will allow us to quantify and visualize the differences across snapshots. Futhermore, for this study, we will only focus on numerical data contained in these snapshots."
   ]
  },
  {
   "cell_type": "code",
   "execution_count": 485,
   "id": "89d929b4",
   "metadata": {},
   "outputs": [],
   "source": [
    "# Define database path\n",
    "DBS_FILEPATH = '/mnt/nvme1n1/linux_dbs/'\n",
    "\n",
    "# User Inputs\n",
    "db_files = [\n",
    "    \"linux-3.0.3.db\", \n",
    "    \"linux-4.0.1.db\",\n",
    "    \"linux-5.1.5.db\",\n",
    "    \"linux-6.12.4.db\"\n",
    "]\n",
    "\n",
    "# All numerical value columns\n",
    "all_n_cols = ['nlink', 'uid', 'gid', 'blksize', 'blocks', 'atime', 'mtime', 'ctime', 'pinode', 'totfiles', 'totlinks',\n",
    "              'totsubdirs', 'uid_min', 'uid_max', 'uid_num_unique', 'gid_min', 'gid_max', 'gid_num_unique', 'size_min', 'size_max',\n",
    "              'size_mean', 'size_median', 'size_stdev', 'size_sum', 'ctime_min', 'ctime_max', 'ctime_mean', 'ctime_median', 'ctime_stdev',\n",
    "              'atime_min', 'atime_max', 'atime_mean', 'atime_median', 'atime_stdev', 'mtime_min', 'mtime_max', 'mtime_mean', 'mtime_median',\n",
    "              'mtime_stdev', 'crtime_min', 'crtime_max', 'crtime_mean', 'crtime_median', 'crtime_stdev', 'name_min', 'name_max', 'name_mean',\n",
    "              'name_median', 'name_stdev', 'linkname_min', 'linkname_max', 'linkname_mean', 'linkname_median', 'linkname_stdev'\n",
    "             ]"
   ]
  },
  {
   "cell_type": "markdown",
   "id": "a35d3d4b",
   "metadata": {},
   "source": [
    "### Filtering Columns (Correlation and Variance Analysis)\n",
    "\n",
    "With vector embedding, it is important to avoid grouping columns that have high correlation with each other in order to avoid **inflating the dimensionality** of our data with redundant insight and **distorting temperoral changes** when comparing snapshots. The latter is due to correlated features dominating the magnitude of distance between two vectors. \n",
    "\n",
    "We also want to filter out columns that have **low variance** across snapshots as this is redundant information as well. By filtering out redundant features, vector embeddings reflect only the unique and meaningful characteristics of the data."
   ]
  },
  {
   "cell_type": "code",
   "execution_count": 486,
   "id": "91657fa9",
   "metadata": {},
   "outputs": [],
   "source": [
    "# Extract numerical data from snapshots\n",
    "def extract_snapshot_data(db_path, columns):\n",
    "    with sqlite3.connect(db_path) as conn:\n",
    "        query = f\"SELECT {', '.join(columns)} FROM snapshot\"\n",
    "        df = pd.read_sql(query, conn)\n",
    "    return df.apply(pd.to_numeric, errors='coerce')  # Ensure numeric columns"
   ]
  },
  {
   "cell_type": "code",
   "execution_count": 487,
   "id": "b321273e",
   "metadata": {},
   "outputs": [],
   "source": [
    "# Filter highly correlated columns\n",
    "def filter_highly_correlated(df, threshold=0.9):\n",
    "    corr_matrix = df.corr().abs()  # Calculate correlation matrix\n",
    "    upper = corr_matrix.where(np.triu(np.ones(corr_matrix.shape), k=1).astype(bool)) # Filters out repeating correlation values in matrix\n",
    "    to_drop = [column for column in upper.columns if any(upper[column] > threshold)]\n",
    "    return df.drop(columns=to_drop), to_drop"
   ]
  },
  {
   "cell_type": "code",
   "execution_count": 488,
   "id": "b50d5bea",
   "metadata": {},
   "outputs": [],
   "source": [
    "# Filter low variance columns across snapshots\n",
    "def filter_low_variance_columns(snapshots, dropped_columns_dict, threshold=1e-5):\n",
    "    \"\"\"Filter columns with low variance across snapshots.\"\"\"\n",
    "    combined_variance = {}\n",
    "    \n",
    "    # Get one snapshot DataFrame to iterate over columns\n",
    "    first_snapshot = next(iter(snapshots.values()))\n",
    "    \n",
    "    for col in first_snapshot.columns:\n",
    "        # Calculate variance across all snapshots for the current column\n",
    "        col_variances = [snapshot[col].var() for snapshot in snapshots.values() if col in snapshot.columns]\n",
    "        combined_variance[col] = np.mean(col_variances)\n",
    "    \n",
    "    # Filter out low-variance columns\n",
    "    low_variance_cols = [col for col, var in combined_variance.items() if var <= threshold]\n",
    "    \n",
    "    # Update dropped columns dictionary\n",
    "    for snapshot_name, snapshot_df in snapshots.items():\n",
    "        dropped_columns_dict[snapshot_name].extend([col for col in low_variance_cols if col in snapshot_df.columns])\n",
    "    \n",
    "    # Final columns to keep\n",
    "    final_columns = [col for col in combined_variance if col not in low_variance_cols]\n",
    "    return final_columns, combined_variance"
   ]
  },
  {
   "cell_type": "code",
   "execution_count": 489,
   "id": "e86c3175",
   "metadata": {},
   "outputs": [
    {
     "name": "stdout",
     "output_type": "stream",
     "text": [
      "Processing snapshot: linux-3.0.3\n",
      "Processing snapshot: linux-4.0.1\n",
      "Processing snapshot: linux-5.1.5\n",
      "Processing snapshot: linux-6.12.4\n"
     ]
    }
   ],
   "source": [
    "# Process all snapshots\n",
    "snapshots = {}\n",
    "uncorrelated_columns = []\n",
    "dropped_columns = {}\n",
    "\n",
    "for db_file in db_files:\n",
    "    db_path = f\"{DBS_FILEPATH}/{db_file}\"\n",
    "    snapshot_name = db_file.replace(\".db\", \"\")\n",
    "    print(f\"Processing snapshot: {snapshot_name}\")\n",
    "    \n",
    "    # Extract data\n",
    "    df = extract_snapshot_data(db_path, all_n_cols)\n",
    "    \n",
    "    # Filter highly correlated columns\n",
    "    filtered_df, dropped = filter_highly_correlated(df)\n",
    "    snapshots[snapshot_name] = filtered_df\n",
    "    dropped_columns[snapshot_name] = dropped  # Initialize dropped columns\n",
    "    \n",
    "    uncorrelated_columns.append(set(filtered_df.columns))"
   ]
  },
  {
   "cell_type": "code",
   "execution_count": 490,
   "id": "ad47b365",
   "metadata": {},
   "outputs": [
    {
     "name": "stdout",
     "output_type": "stream",
     "text": [
      "Shared columns after removing highly correlated features:\n",
      "{'gid', 'uid_min', 'atime', 'uid_num_unique', 'size_mean', 'crtime_mean', 'crtime_max', 'pinode', 'name_mean', 'name_stdev', 'name_max', 'mtime_min', 'ctime_stdev', 'blocks', 'ctime', 'blksize', 'mtime_max', 'crtime_min', 'totlinks', 'crtime_median', 'nlink', 'linkname_mean', 'mtime', 'uid_max', 'gid_max', 'uid', 'mtime_mean', 'linkname_max', 'gid_min', 'name_min', 'mtime_stdev'}\n"
     ]
    }
   ],
   "source": [
    "# Find columns shared across all snapshots\n",
    "shared_columns = set.intersection(*uncorrelated_columns)\n",
    "print(\"Shared columns after removing highly correlated features:\")\n",
    "print(shared_columns)"
   ]
  },
  {
   "cell_type": "code",
   "execution_count": 491,
   "id": "5fb82216",
   "metadata": {},
   "outputs": [],
   "source": [
    "# Filter out low variance columns\n",
    "final_snapshots = {name: df[list(shared_columns)] for name, df in snapshots.items()}\n",
    "final_columns, column_variances = filter_low_variance_columns(final_snapshots, dropped_columns)"
   ]
  },
  {
   "cell_type": "code",
   "execution_count": 492,
   "id": "f2ed4dd0",
   "metadata": {},
   "outputs": [
    {
     "name": "stdout",
     "output_type": "stream",
     "text": [
      "Final list of columns for vector embedding:\n",
      "['atime', 'uid_num_unique', 'size_mean', 'pinode', 'name_mean', 'name_stdev', 'name_max', 'ctime_stdev', 'blocks', 'ctime', 'totlinks', 'nlink', 'linkname_mean', 'linkname_max', 'name_min', 'mtime_stdev']\n"
     ]
    }
   ],
   "source": [
    "print(\"Final list of columns for vector embedding:\")\n",
    "print(final_columns)"
   ]
  },
  {
   "cell_type": "code",
   "execution_count": 493,
   "id": "2d3299fe",
   "metadata": {},
   "outputs": [
    {
     "name": "stdout",
     "output_type": "stream",
     "text": [
      "Dropped columns per snapshot:\n",
      "linux-3.0.3: ['totsubdirs', 'size_min', 'size_max', 'size_median', 'size_stdev', 'ctime_min', 'ctime_max', 'ctime_mean', 'ctime_median', 'atime_min', 'atime_max', 'atime_mean', 'atime_median', 'atime_stdev', 'crtime_stdev', 'name_median', 'gid', 'uid_min', 'crtime_mean', 'crtime_max', 'mtime_min', 'blksize', 'mtime_max', 'crtime_min', 'crtime_median', 'mtime', 'uid_max', 'gid_max', 'uid', 'mtime_mean', 'gid_min']\n",
      "linux-4.0.1: ['totsubdirs', 'gid_num_unique', 'size_max', 'size_stdev', 'ctime_min', 'ctime_max', 'ctime_mean', 'ctime_median', 'atime_min', 'atime_max', 'atime_mean', 'atime_median', 'atime_stdev', 'mtime_median', 'name_median', 'linkname_min', 'linkname_median', 'linkname_stdev', 'gid', 'uid_min', 'crtime_mean', 'crtime_max', 'mtime_min', 'blksize', 'mtime_max', 'crtime_min', 'crtime_median', 'mtime', 'uid_max', 'gid_max', 'uid', 'mtime_mean', 'gid_min']\n",
      "linux-5.1.5: ['totfiles', 'totsubdirs', 'size_max', 'size_stdev', 'ctime_min', 'ctime_max', 'ctime_mean', 'ctime_median', 'atime_min', 'atime_stdev', 'crtime_stdev', 'name_median', 'gid', 'uid_min', 'crtime_mean', 'crtime_max', 'mtime_min', 'blksize', 'mtime_max', 'crtime_min', 'crtime_median', 'mtime', 'uid_max', 'gid_max', 'uid', 'mtime_mean', 'gid_min']\n",
      "linux-6.12.4: ['totsubdirs', 'size_max', 'size_median', 'size_stdev', 'size_sum', 'ctime_min', 'ctime_max', 'ctime_mean', 'ctime_median', 'atime_min', 'atime_stdev', 'crtime_stdev', 'name_median', 'gid', 'uid_min', 'crtime_mean', 'crtime_max', 'mtime_min', 'blksize', 'mtime_max', 'crtime_min', 'crtime_median', 'mtime', 'uid_max', 'gid_max', 'uid', 'mtime_mean', 'gid_min']\n"
     ]
    }
   ],
   "source": [
    "# Optional: Print dropped columns per snapshot\n",
    "print(\"Dropped columns per snapshot:\")\n",
    "for snapshot_name, dropped_cols in dropped_columns.items():\n",
    "    print(f\"{snapshot_name}: {dropped_cols}\")"
   ]
  },
  {
   "cell_type": "markdown",
   "id": "0957c497",
   "metadata": {},
   "source": [
    "### 2. Extract and normalize key metadata features\n",
    "\n",
    "Now that we have identified our final list of columns, we will now extract such columns from each snapshot DataFrame and normalize the data. With normalization, all features contribute equally during analysis and prevent large-scale features dominating similarity and distance metrics. In this case, we will be applying **StandardScaler**. We transform all features to have **mean = 0** and **standard deviation = 1**. A crucial step when using **StandardScaler** is to remove columns with constant values across snapshots. Normalizing such data will produce low variance, which again should be avoided."
   ]
  },
  {
   "cell_type": "code",
   "execution_count": 494,
   "id": "96787d8a",
   "metadata": {},
   "outputs": [],
   "source": [
    "# Remove all constant columns from final columns list\n",
    "def remove_constant_columns(snapshots, final_columns):\n",
    "    # Combine all snapshots into a single DataFrame for analysis\n",
    "    combined_df = pd.concat([df[final_columns].fillna(0) for df in snapshots.values()], \n",
    "                            axis=0, ignore_index=True)\n",
    "    \n",
    "    # Identify columns with more than 1 unique value (non-constant)\n",
    "    non_constant_columns = combined_df.loc[:, combined_df.nunique() > 1].columns.tolist()\n",
    "    return non_constant_columns"
   ]
  },
  {
   "cell_type": "code",
   "execution_count": 495,
   "id": "1ff1a5e2",
   "metadata": {},
   "outputs": [],
   "source": [
    "# Apply StandardScaler normalization to each snapshot\n",
    "def normalize_snapshots(snapshots):\n",
    "    scaler = StandardScaler()\n",
    "    normalized_snapshots = {}\n",
    "\n",
    "    for snapshot_name, snapshot_df in snapshots.items():\n",
    "        print(f\"Normalizing data for {snapshot_name}...\")\n",
    "        \n",
    "        # Fill NaN values with 0 for consistent scaling\n",
    "        snapshot_df = snapshot_df.fillna(0)\n",
    "        \n",
    "        # Apply normalization\n",
    "        scaled_data = scaler.fit_transform(snapshot_df)\n",
    "        \n",
    "        # Store normalized DataFrame\n",
    "        normalized_snapshots[snapshot_name] = pd.DataFrame(\n",
    "            scaled_data, columns=snapshot_df.columns\n",
    "        )\n",
    "    return normalized_snapshots"
   ]
  },
  {
   "cell_type": "code",
   "execution_count": 496,
   "id": "78cb4e2b",
   "metadata": {},
   "outputs": [
    {
     "name": "stdout",
     "output_type": "stream",
     "text": [
      "Final columns after removing constant columns: ['atime', 'uid_num_unique', 'size_mean', 'pinode', 'name_mean', 'name_stdev', 'name_max', 'ctime_stdev', 'blocks', 'ctime', 'totlinks', 'nlink', 'linkname_mean', 'linkname_max', 'name_min', 'mtime_stdev']\n"
     ]
    }
   ],
   "source": [
    "# Identify non-constant columns across all snapshots\n",
    "final_columns_filtered = remove_constant_columns(filtered_snapshots, final_columns)\n",
    "print(\"Final columns after removing constant columns:\", final_columns_filtered)"
   ]
  },
  {
   "cell_type": "code",
   "execution_count": 497,
   "id": "6fcc9d91",
   "metadata": {},
   "outputs": [],
   "source": [
    "# Extract data from only the \"final columns\" with non-constant values for each snapshot DataFrame\n",
    "filtered_snapshots = {\n",
    "    name: df[final_columns_filtered] for name, df in filtered_snapshots.items()\n",
    "}"
   ]
  },
  {
   "cell_type": "code",
   "execution_count": 498,
   "id": "2475782c",
   "metadata": {},
   "outputs": [
    {
     "name": "stdout",
     "output_type": "stream",
     "text": [
      "Normalizing data for linux-3.0.3...\n",
      "Normalizing data for linux-4.0.1...\n",
      "Normalizing data for linux-5.1.5...\n",
      "Normalizing data for linux-6.12.4...\n",
      "\n",
      "Preview of normalized data for the first snapshot:\n",
      "   atime  uid_num_unique  size_mean    pinode  name_mean  name_stdev  \\\n",
      "0    0.0        0.296473  -0.254149 -0.165820   1.206704    0.709799   \n",
      "1    0.0        0.296473   1.301984  1.581417   0.188926   -1.445994   \n",
      "2    0.0        0.296473  -0.416169 -1.040120   1.397538    1.169922   \n",
      "3    0.0        0.296473   0.384018 -1.040121  -0.412489    0.152538   \n",
      "4    0.0        0.296473  -0.242007 -0.166474   1.206704    2.084740   \n",
      "\n",
      "   name_max  ctime_stdev    blocks     ctime  totlinks     nlink  \\\n",
      "0  0.899129    -0.529934 -0.447364 -1.044511 -0.021017 -0.198159   \n",
      "1 -0.551619    -0.529934 -0.447364  2.291150 -0.021017 -0.198159   \n",
      "2  0.899129    -0.529934 -0.447364  1.874193 -0.021017 -0.198159   \n",
      "3 -0.068036     0.920006 -0.447364  1.040277 -0.021017 -0.198159   \n",
      "4  1.221517    -0.529934 -0.447364 -0.627554 -0.021017 -0.198159   \n",
      "\n",
      "   linkname_mean  linkname_max  name_min  mtime_stdev  \n",
      "0            0.0           0.0  0.610616    -0.645636  \n",
      "1            0.0           0.0  1.233889    -0.645636  \n",
      "2            0.0           0.0  0.610616    -0.645636  \n",
      "3            0.0           0.0 -0.324295    -0.645636  \n",
      "4            0.0           0.0  0.298979    -0.645636  \n"
     ]
    }
   ],
   "source": [
    "# Normalize the snapshots\n",
    "normalized_snapshots = normalize_snapshots(filtered_snapshots)\n",
    "\n",
    "# Print a preview for one snapshot\n",
    "print(\"\\nPreview of normalized data for the first snapshot:\")\n",
    "print(next(iter(normalized_snapshots.values())).head())"
   ]
  },
  {
   "cell_type": "code",
   "execution_count": 499,
   "id": "bd412ff3",
   "metadata": {},
   "outputs": [
    {
     "name": "stdout",
     "output_type": "stream",
     "text": [
      "Low-Variance Columns Across Snapshots (Threshold = 1.0e-05):\n",
      "\n",
      "Final columns after removing low-variance columns: ['atime', 'uid_num_unique', 'size_mean', 'pinode', 'name_mean', 'name_stdev', 'name_max', 'ctime_stdev', 'blocks', 'ctime', 'totlinks', 'nlink', 'linkname_mean', 'linkname_max', 'name_min', 'mtime_stdev']\n"
     ]
    }
   ],
   "source": [
    "# Optional: Double check the column variance across snapshots\n",
    "def check_low_variance_across_snapshots(snapshots, final_columns, threshold=1e-5):\n",
    "    # Combine the data for the final columns from all snapshots\n",
    "    combined_data = pd.concat([df[final_columns] for df in snapshots.values()], \n",
    "                              axis=0, ignore_index=True)\n",
    "    \n",
    "    # Calculate variance for each column\n",
    "    column_variances = combined_data.var()\n",
    "\n",
    "    # Identify low-variance columns\n",
    "    low_variance_columns = column_variances[column_variances < threshold].index.tolist()\n",
    "\n",
    "    # Print results\n",
    "    print(\"Low-Variance Columns Across Snapshots (Threshold = {:.1e}):\".format(threshold))\n",
    "    for col in low_variance_columns:\n",
    "        print(f\"{col}: Variance = {column_variances[col]:.6f}\")\n",
    "    return low_variance_columns, column_variances.to_dict()\n",
    "\n",
    "low_variance_cols, column_variances = check_low_variance_across_snapshots(\n",
    "    filtered_snapshots, final_columns_filtered, threshold=1e-5\n",
    ")\n",
    "\n",
    "# Print the final list of columns without low variance\n",
    "final_columns_no_low_variance = [col for col in final_columns_filtered if col not in low_variance_cols]\n",
    "print(\"\\nFinal columns after removing low-variance columns:\", final_columns_no_low_variance)"
   ]
  },
  {
   "cell_type": "markdown",
   "id": "d0de87da",
   "metadata": {},
   "source": [
    "### 3. Apply dimensionality reduction for vector embeddings\n",
    "\n",
    "In this step, we reduce the dimensionality of the normalized snapshot data using **Principal Component Analysis (PCA)** and **t-distributed Stochastic Neighbor Embedding (t-SNE)**. The goal is to generate **vector embeddings** for each snapshot in a lower-dimensional space while retaining as much variance and information as possible.\n",
    "\n",
    "### Why Dimensionality Reduction?\n",
    "- **Simplifies data**: Reduces the number of features while preserving important information.\n",
    "- **Improves efficiency**: Speeds up computations for distance and similarity metrics.\n",
    "- **Enhances visualization**: Allows us to visualize relationships between snapshots in 2D or 3D space.\n",
    "- **Reduces noise**: Filters out redundant or uninformative features, focusing on meaningful variations.\n",
    "\n",
    "### Methods:\n",
    "1. **PCA (Principal Component Analysis)**:\n",
    "   - Projects the data into a new orthogonal basis to maximize variance in the first few components.\n",
    "   - Provides a global view of variance across all snapshots.\n",
    "\n",
    "2. **t-SNE (t-distributed Stochastic Neighbor Embedding)**:\n",
    "   - Non-linear dimensionality reduction technique that preserves local structure.\n",
    "   - Ideal for visualizing complex, high-dimensional relationships in a low-dimensional space.\n",
    "\n",
    "### Notes:\n",
    "- While PCA ensures that variance is maximized across components, t-SNE focuses on **local neighborhoods**.\n",
    "- Previous steps like filtering and normalization support these methods, but **results are not ensured** — additional steps may be required for tuning or refinement."
   ]
  },
  {
   "cell_type": "code",
   "execution_count": 500,
   "id": "1c4f0462",
   "metadata": {},
   "outputs": [],
   "source": [
    "# Dimensionality reduction using PCA\n",
    "def apply_pca_to_snapshots(snapshots, n_components=5):\n",
    "    pca_embeddings = {}\n",
    "    explained_variances = {}\n",
    "    \n",
    "    for snapshot_name, snapshot_df in snapshots.items():\n",
    "        print(f\"Applying PCA to snapshot: {snapshot_name}...\")\n",
    "        \n",
    "        # Initialize PCA\n",
    "        pca = PCA(n_components=n_components, random_state=42)\n",
    "        \n",
    "        # Fit PCA to the data and transform\n",
    "        pca_result = pca.fit_transform(snapshot_df)\n",
    "        \n",
    "        # Store the PCA-transformed embeddings\n",
    "        pca_embeddings[snapshot_name] = pd.DataFrame(\n",
    "            pca_result, columns=[f\"PC{i+1}\" for i in range(n_components)]\n",
    "        )\n",
    "        \n",
    "        # Store explained variance ratio\n",
    "        explained_variances[snapshot_name] = pca.explained_variance_ratio_   \n",
    "    return pca_embeddings, explained_variances"
   ]
  },
  {
   "cell_type": "code",
   "execution_count": 501,
   "id": "80a6b149",
   "metadata": {},
   "outputs": [
    {
     "name": "stdout",
     "output_type": "stream",
     "text": [
      "Applying PCA to snapshot: linux-3.0.3...\n",
      "Applying PCA to snapshot: linux-4.0.1...\n",
      "Applying PCA to snapshot: linux-5.1.5...\n",
      "Applying PCA to snapshot: linux-6.12.4...\n",
      "\n",
      "Preview of normalized data for the first snapshot:\n",
      "        PC1       PC2       PC3       PC4       PC5       PC6       PC7  \\\n",
      "0  0.898953 -1.374440 -1.356758  0.061124  0.177819 -0.287590  0.537813   \n",
      "1 -0.481614 -1.973017  3.058270 -0.163105 -0.643335  0.085893 -0.621663   \n",
      "2  1.303391 -1.524922 -0.449197  0.460173  0.403349  0.695153 -2.073151   \n",
      "3 -0.069230  0.137677  0.087397  0.116605 -0.150731  1.266895 -0.971478   \n",
      "4  1.490118 -1.250481 -1.761445 -0.000556  0.353260 -0.191029 -0.331471   \n",
      "\n",
      "        PC8  \n",
      "0  0.311876  \n",
      "1 -0.276005  \n",
      "2 -0.258320  \n",
      "3 -0.279578  \n",
      "4  1.175352  \n"
     ]
    }
   ],
   "source": [
    "# Apply PCA to the normalized snapshots\n",
    "n_components = 8  # Number of dimensions to reduce to\n",
    "pca_snapshots, explained_variances = apply_pca_to_snapshots(normalized_snapshots, n_components)\n",
    "\n",
    "# Print a preview for one snapshot PCA embedding\n",
    "print(\"\\nPreview of normalized data for the first snapshot:\")\n",
    "print(next(iter(pca_snapshots.values())).head())"
   ]
  },
  {
   "cell_type": "markdown",
   "id": "4ff3b530",
   "metadata": {},
   "source": [
    "### Explained Variance in PCA\n",
    "When applying **Principal Component Analysis (PCA)**, the **explained variance ratio** tells us how much of the total variability in the data is retained by each principal component.\n",
    "\n",
    "### What Does It Mean?\n",
    "- **High explained variance** indicates that the principal components capture most of the information in the original data.\n",
    "- Each principal component explains a proportion of the variance, and the **cumulative sum** shows how much variance is retained overall.\n",
    "\n",
    "### How Much Variance Should We Retain?\n",
    "- Ideally, we aim to retain at least **70% to 90%** of the total variance.\n",
    "- If the cumulative variance is below 70%, consider increasing the number of principal components (`n_components`).\n"
   ]
  },
  {
   "cell_type": "code",
   "execution_count": 502,
   "id": "9e78ea41",
   "metadata": {},
   "outputs": [
    {
     "name": "stdout",
     "output_type": "stream",
     "text": [
      "Explained Variance Ratios for Each Snapshot:\n",
      "linux-3.0.3: [0.29896278 0.17886399 0.09574154 0.08076383 0.07700568 0.07121986\n",
      " 0.06758822 0.05564553]\n",
      "Total Explained Variance: 92.58%\n",
      "\n",
      "linux-4.0.1: [0.21744993 0.16790778 0.11534509 0.10486676 0.06686566 0.06058542\n",
      " 0.05933091 0.05562875]\n",
      "Total Explained Variance: 84.80%\n",
      "\n",
      "linux-5.1.5: [0.26909029 0.15360674 0.08853844 0.08139441 0.07739668 0.07637922\n",
      " 0.06828303 0.06342498]\n",
      "Total Explained Variance: 87.81%\n",
      "\n",
      "linux-6.12.4: [0.24462038 0.13886122 0.08510586 0.07551219 0.07229073 0.07195559\n",
      " 0.06847442 0.06039639]\n",
      "Total Explained Variance: 81.72%\n",
      "\n"
     ]
    }
   ],
   "source": [
    "# Print the explained variance for each snapshot\n",
    "print(\"Explained Variance Ratios for Each Snapshot:\")\n",
    "for snapshot_name, variance in explained_variances.items():\n",
    "    total_variance = sum(variance)  # Calculate cumulative explained variance\n",
    "    print(f\"{snapshot_name}: {variance}\")\n",
    "    print(f\"Total Explained Variance: {total_variance:.2%}\\n\")"
   ]
  },
  {
   "cell_type": "code",
   "execution_count": 503,
   "id": "300ee1ae",
   "metadata": {},
   "outputs": [],
   "source": [
    "# Dimensionality reduction using t-SNE\n",
    "def apply_tsne_to_snapshots(snapshots, n_components=2):\n",
    "    tsne_embeddings = {}\n",
    "    \n",
    "    for snapshot_name, snapshot_df in snapshots.items():\n",
    "        print(f\"Applying T-SNE to snapshot: {snapshot_name}...\")\n",
    "        \n",
    "        # Initialize T-SNE\n",
    "        tsne = TSNE(n_components=n_components, random_state=42)\n",
    "        \n",
    "        # Fit T-SNE to the data and transform\n",
    "        tsne_result = tsne.fit_transform(snapshot_df)\n",
    "        \n",
    "        # Store the T-SNE-transformed embeddings\n",
    "        tsne_embeddings[snapshot_name] = pd.DataFrame(\n",
    "            tsne_result, columns=[f\"PC{i+1}\" for i in range(n_components)]\n",
    "        )\n",
    "    return tsne_embeddings"
   ]
  },
  {
   "cell_type": "code",
   "execution_count": 504,
   "id": "d4062f82",
   "metadata": {},
   "outputs": [
    {
     "name": "stdout",
     "output_type": "stream",
     "text": [
      "Applying T-SNE to snapshot: linux-3.0.3...\n",
      "Applying T-SNE to snapshot: linux-4.0.1...\n",
      "Applying T-SNE to snapshot: linux-5.1.5...\n",
      "Applying T-SNE to snapshot: linux-6.12.4...\n",
      "\n",
      "Preview of normalized data for the first snapshot:\n",
      "         PC1        PC2\n",
      "0  11.075618 -25.478926\n",
      "1  22.317743  27.288820\n",
      "2  17.744036  16.123184\n",
      "3  38.536919  25.254732\n",
      "4   9.216665 -19.667555\n"
     ]
    }
   ],
   "source": [
    "# Apply t-SNE to the normalized snapshots\n",
    "tsne_snapshots = apply_tsne_to_snapshots(normalized_snapshots)\n",
    "\n",
    "# Print a preview for one snapshot t-SNE embedding\n",
    "print(\"\\nPreview of normalized data for the first snapshot:\")\n",
    "print(next(iter(tsne_snapshots.values())).head())"
   ]
  },
  {
   "cell_type": "markdown",
   "id": "c277d8d0",
   "metadata": {},
   "source": [
    "### 4. Calculate Distances and Similarities Between Snapshots\n",
    "In this step, we calculate the relationships between the PCA-transformed embeddings of each snapshot using **mean vectors** and two key metrics:\n",
    "\n",
    "\n",
    "1. **Euclidean Distance**:\n",
    "   - Measures the **magnitude of differences** between snapshots.\n",
    "   - Lower values indicate that two snapshots are more similar.\n",
    "\n",
    "\n",
    "2. **Cosine Similarity**:\n",
    "   - Measures the **directional alignment** between snapshots.\n",
    "   - Values range from **-1 (completely opposite)** to **1 (identical)**.\n",
    "   - Higher values indicate greater similarity.\n",
    "\n",
    "### Why Use Mean Vectors?\n",
    "Each snapshot's PCA-transformed data may have a different number of rows, so we cannot directly compare the matrices. Instead:\n",
    "- We compute the **mean vector** for each snapshot's PCA embeddings.\n",
    "- The mean vector is a single representative vector that captures the \"center\" of the snapshot in PCA space.\n",
    "- This allows us to consistently compare snapshots regardless of their row counts.\n",
    "\n",
    "\n",
    "### Why Both Metrics?\n",
    "- **Euclidean Distance** focuses on how far apart the snapshots are in the reduced feature space.\n",
    "- **Cosine Similarity** identifies how aligned the snapshots are, regardless of their distance within the feature space.\n"
   ]
  },
  {
   "cell_type": "code",
   "execution_count": 505,
   "id": "45b4ec42",
   "metadata": {},
   "outputs": [],
   "source": [
    "def calculate_euclidean_distance(snapshots):\n",
    "    snapshot_names = list(snapshots.keys())\n",
    "    mean_vectors = [df.mean(axis=0).values for df in snapshots.values()]\n",
    "\n",
    "    # Initialize distance matrix\n",
    "    euclidean_distances = np.zeros((len(snapshot_names), len(snapshot_names)))\n",
    "\n",
    "    # Calculate Euclidean distances\n",
    "    for i, vec1 in enumerate(mean_vectors):\n",
    "        for j, vec2 in enumerate(mean_vectors):\n",
    "            euclidean_distances[i, j] = np.linalg.norm(vec1 - vec2)\n",
    "\n",
    "    # Convert to DataFrame\n",
    "    euclidean_df = pd.DataFrame(euclidean_distances, index=snapshot_names, columns=snapshot_names)\n",
    "    return euclidean_df"
   ]
  },
  {
   "cell_type": "code",
   "execution_count": 506,
   "id": "7921d433",
   "metadata": {},
   "outputs": [],
   "source": [
    "def calculate_cosine_similarity(snapshots):\n",
    "    snapshot_names = list(snapshots.keys())\n",
    "    mean_vectors = [df.mean(axis=0).values for df in snapshots.values()]\n",
    "\n",
    "    # Stack mean vectors into a single array\n",
    "    mean_matrix = np.vstack(mean_vectors)\n",
    "\n",
    "    # Calculate pairwise cosine similarities\n",
    "    cosine_similarities = cosine_similarity(mean_matrix)\n",
    "\n",
    "    # Convert to DataFrame\n",
    "    cosine_df = pd.DataFrame(cosine_similarities, index=snapshot_names, columns=snapshot_names)\n",
    "    return cosine_df"
   ]
  },
  {
   "cell_type": "code",
   "execution_count": 507,
   "id": "324dbac3",
   "metadata": {},
   "outputs": [],
   "source": [
    "# PCA distance and similarity usage\n",
    "pca_euclidean_distances = calculate_euclidean_distance(pca_snapshots)\n",
    "pca_cosine_similarities = calculate_cosine_similarity(pca_snapshots)"
   ]
  },
  {
   "cell_type": "code",
   "execution_count": 508,
   "id": "a6851568",
   "metadata": {},
   "outputs": [
    {
     "name": "stdout",
     "output_type": "stream",
     "text": [
      "PCA Euclidean Distance Matrix:\n",
      "               linux-3.0.3   linux-4.0.1   linux-5.1.5  linux-6.12.4\n",
      "linux-3.0.3   0.000000e+00  6.110480e-16  4.645229e-16  3.954826e-16\n",
      "linux-4.0.1   6.110480e-16  0.000000e+00  6.221950e-16  4.333691e-16\n",
      "linux-5.1.5   4.645229e-16  6.221950e-16  0.000000e+00  2.547171e-16\n",
      "linux-6.12.4  3.954826e-16  4.333691e-16  2.547171e-16  0.000000e+00\n"
     ]
    }
   ],
   "source": [
    "# PCA euclidean distance results\n",
    "print(\"PCA Euclidean Distance Matrix:\")\n",
    "print(pca_euclidean_distances)"
   ]
  },
  {
   "cell_type": "code",
   "execution_count": 509,
   "id": "65f7c4ed",
   "metadata": {},
   "outputs": [
    {
     "name": "stdout",
     "output_type": "stream",
     "text": [
      "PCA Cosine Similarity Matrix:\n",
      "              linux-3.0.3  linux-4.0.1  linux-5.1.5  linux-6.12.4\n",
      "linux-3.0.3      1.000000    -0.353122    -0.092015     -0.070110\n",
      "linux-4.0.1     -0.353122     1.000000    -0.154335      0.390530\n",
      "linux-5.1.5     -0.092015    -0.154335     1.000000      0.696396\n",
      "linux-6.12.4    -0.070110     0.390530     0.696396      1.000000\n"
     ]
    }
   ],
   "source": [
    "# PCA cosine similarity results\n",
    "print(\"PCA Cosine Similarity Matrix:\")\n",
    "print(pca_cosine_similarities)"
   ]
  },
  {
   "cell_type": "code",
   "execution_count": 510,
   "id": "a8ee0ec6",
   "metadata": {},
   "outputs": [],
   "source": [
    "# t-SNE distance and similarity usage\n",
    "tsne_euclidean_distances = calculate_euclidean_distance(tsne_snapshots)\n",
    "tsne_cosine_similarities = calculate_cosine_similarity(tsne_snapshots)"
   ]
  },
  {
   "cell_type": "code",
   "execution_count": 511,
   "id": "66cc3028",
   "metadata": {},
   "outputs": [
    {
     "name": "stdout",
     "output_type": "stream",
     "text": [
      "t-SNE Euclidean Distance Matrix:\n",
      "              linux-3.0.3  linux-4.0.1  linux-5.1.5  linux-6.12.4\n",
      "linux-3.0.3      0.000000     1.005301     1.752602      0.452733\n",
      "linux-4.0.1      1.005301     0.000000     1.103858      1.080071\n",
      "linux-5.1.5      1.752602     1.103858     0.000000      1.511205\n",
      "linux-6.12.4     0.452733     1.080071     1.511205      0.000000\n"
     ]
    }
   ],
   "source": [
    "# t-SNE euclidean distance results\n",
    "print(\"t-SNE Euclidean Distance Matrix:\")\n",
    "print(tsne_euclidean_distances)"
   ]
  },
  {
   "cell_type": "code",
   "execution_count": 512,
   "id": "aeda9fdd",
   "metadata": {},
   "outputs": [
    {
     "name": "stdout",
     "output_type": "stream",
     "text": [
      "t-SNE Cosine Similarity Matrix:\n",
      "              linux-3.0.3  linux-4.0.1  linux-5.1.5  linux-6.12.4\n",
      "linux-3.0.3      1.000000     0.555573    -0.260892      0.999987\n",
      "linux-4.0.1      0.555573     1.000000     0.657728      0.559755\n",
      "linux-5.1.5     -0.260892     0.657728     1.000000     -0.256025\n",
      "linux-6.12.4     0.999987     0.559755    -0.256025      1.000000\n"
     ]
    }
   ],
   "source": [
    "# t-SNE cosine similarity results\n",
    "print(\"t-SNE Cosine Similarity Matrix:\")\n",
    "print(tsne_cosine_similarities)"
   ]
  },
  {
   "cell_type": "markdown",
   "id": "7db93f95",
   "metadata": {},
   "source": [
    "### 5. Visualize Distance and Similarity Matrices\n",
    "\n",
    "In this step, we visualize the relationships between snapshots using **heatmaps** for the following metrics:\n",
    "1. **Euclidean Distance**: Shows how far apart snapshots are in PCA and t-SNE space.\n",
    "2. **Cosine Similarity**: Shows how directionally similar snapshots are.\n",
    "\n",
    "### Key Metrics:\n",
    "1. **Euclidean Distance**:\n",
    "   - Lower values indicate snapshots are closer together (more similar).\n",
    "   - Darker colors represent greater dissimilarity.\n",
    "\n",
    "\n",
    "2. **Cosine Similarity**:\n",
    "   - Values range from **-1** to **1**:\n",
    "     - **1** → Vectors point in the same direction (strong similarity).\n",
    "     - **0** → Vectors are orthogonal (no relationship).\n",
    "     - **-1** → Vectors point in completely opposite directions (strong dissimilarity).\n",
    "   - Warmer colors (red) represent closer alignment between snapshots.\n",
    "\n",
    "These insights will help us better understand the **temporal relationships** between the snapshots:\n",
    "- Clusters of similar snapshots.\n",
    "- Snapshots that are most or least similar to each other.\n"
   ]
  },
  {
   "cell_type": "code",
   "execution_count": 513,
   "id": "9332aae3",
   "metadata": {},
   "outputs": [],
   "source": [
    "def plot_heatmap(matrix, title, cmap, fmt=\".4f\", annot=True):\n",
    "    plt.figure(figsize=(8, 6))\n",
    "    sns.heatmap(matrix, annot=annot, fmt=fmt, cmap=cmap, linewidths=0.5)\n",
    "    plt.title(title)\n",
    "    plt.xlabel(\"Snapshots\")\n",
    "    plt.ylabel(\"Snapshots\")\n",
    "    plt.show()"
   ]
  },
  {
   "cell_type": "code",
   "execution_count": 514,
   "id": "99146443",
   "metadata": {},
   "outputs": [
    {
     "data": {
      "image/png": "[encoded data removed]",
      "text/plain": [
       "<Figure size 576x432 with 2 Axes>"
      ]
     },
     "metadata": {
      "needs_background": "light"
     },
     "output_type": "display_data"
    }
   ],
   "source": [
    "# Plot the PCA Euclidean Distance Matrix\n",
    "plot_heatmap(pca_euclidean_distances, \"Euclidean Distance Between Snapshots (PCA)\", \"YlGnBu\", fmt='.6e')"
   ]
  },
  {
   "cell_type": "code",
   "execution_count": 515,
   "id": "87c2de62",
   "metadata": {
    "scrolled": true
   },
   "outputs": [
    {
     "data": {
      "image/png": "[encoded data removed]",
      "text/plain": [
       "<Figure size 576x432 with 2 Axes>"
      ]
     },
     "metadata": {
      "needs_background": "light"
     },
     "output_type": "display_data"
    }
   ],
   "source": [
    "# Plot the PCA Cosine Similarity Matrix\n",
    "plot_heatmap(pca_cosine_similarities, \"Cosine Similarity Between Snapshots (PCA)\", \"coolwarm\")"
   ]
  },
  {
   "cell_type": "code",
   "execution_count": 516,
   "id": "b532dd2a",
   "metadata": {},
   "outputs": [
    {
     "data": {
      "image/png": "[encoded data removed]",
      "text/plain": [
       "<Figure size 576x432 with 2 Axes>"
      ]
     },
     "metadata": {
      "needs_background": "light"
     },
     "output_type": "display_data"
    }
   ],
   "source": [
    "# Plot the t-SNE Euclidean Distance Matrix\n",
    "plot_heatmap(tsne_euclidean_distances, \"Euclidean Distance Between Snapshots (TSNE)\", \"YlGnBu\", fmt='.6f')"
   ]
  },
  {
   "cell_type": "code",
   "execution_count": 517,
   "id": "3c1cc3a6",
   "metadata": {},
   "outputs": [
    {
     "data": {
      "image/png": "[encoded data removed]",
      "text/plain": [
       "<Figure size 576x432 with 2 Axes>"
      ]
     },
     "metadata": {
      "needs_background": "light"
     },
     "output_type": "display_data"
    }
   ],
   "source": [
    "# Plot the t-SNE Cosine Similarity Matrix\n",
    "plot_heatmap(tsne_cosine_similarities, \"Cosine Similarity Between Snapshots (TSNE)\", \"coolwarm\")"
   ]
  },
  {
   "cell_type": "markdown",
   "id": "fa216043",
   "metadata": {},
   "source": [
    "## Final Findings: Comparing Snapshots Using PCA and t-SNE\n",
    "\n",
    "We applied **dimensionality reduction** techniques, **PCA** and **t-SNE**, to generate vector embeddings for the snapshots and compared their relationships using **Euclidean distance** and **Cosine similarity**.\n",
    "\n",
    "### Cosine Similarity Results:\n",
    "1. **PCA**:\n",
    "   - **linux-5.1.5** and **linux-6.12.4** show the strongest similarity (**0.6964**), indicating aligned trends in PCA space.\n",
    "   - **linux-3.0.3** shows **negative similarity** with other snapshots (e.g., **-0.3531** with linux-4.0.1), suggesting it is directionally opposed to the others.\n",
    "\n",
    "2. **t-SNE**:\n",
    "   - **linux-3.0.3** and **linux-6.12.4** have the highest similarity (**1.0000**), indicating close alignment in local structure.\n",
    "   - **linux-5.1.5** has notable dissimilarities with linux-3.0.3 (**-0.2609**) and linux-6.12.4 (**-0.2560**), suggesting t-SNE uncovered local patterns that differ from PCA results.\n",
    "\n",
    "### Euclidean Distance Results:\n",
    "1. **PCA**:\n",
    "   - The distances are extremely small (on the order of **1e-16**), indicating the mean vectors are nearly identical in PCA space.\n",
    "   - This suggests PCA compressed the data such that snapshots are very close in magnitude but differ directionally (as shown by cosine similarity).\n",
    "\n",
    "2. **t-SNE**:\n",
    "   - The distances reveal meaningful variability between snapshots:\n",
    "     - **linux-3.0.3** and **linux-6.12.4** are closest (distance = **0.4527**), indicating strong similarity.\n",
    "     - **linux-3.0.3** and **linux-5.1.5** are farthest apart (distance = **1.7526**), highlighting significant dissimilarity.\n",
    "\n",
    "### Key Insights:\n",
    "1. **PCA vs t-SNE**:\n",
    "   - PCA provides a global view of variance but compresses distances, resulting in minimal Euclidean differences.\n",
    "   - t-SNE better preserves local structure, revealing clearer patterns of similarity and dissimilarity.\n",
    "\n",
    "2. **Snapshot Relationships**:\n",
    "   - **linux-5.1.5** and **linux-6.12.4** show consistent alignment across both PCA and t-SNE.\n",
    "   - **linux-3.0.3** remains distinct, particularly in PCA where it exhibits negative cosine similarity with other snapshots.\n",
    "\n",
    "3. **Choosing the Right Method**:\n",
    "   - Use **PCA** for understanding global variance and trends.\n",
    "   - Use **t-SNE** for uncovering local relationships and nuanced differences.\n",
    "\n",
    "### Next Steps:\n",
    "- Further investigate why **linux-3.0.3** behaves as an outlier across both metrics.\n",
    "- Explore other techniques like **UMAP** for a balance between global and local structure preservation.\n",
    "- Use these findings to inform decisions regarding snapshot differences and temporal changes."
   ]
  }
 ],
 "metadata": {
  "kernelspec": {
   "display_name": "Python 3",
   "language": "python",
   "name": "python3"
  },
  "language_info": {
   "codemirror_mode": {
    "name": "ipython",
    "version": 3
   },
   "file_extension": ".py",
   "mimetype": "text/x-python",
   "name": "python",
   "nbconvert_exporter": "python",
   "pygments_lexer": "ipython3",
   "version": "3.6.8"
  }
 },
 "nbformat": 4,
 "nbformat_minor": 5
}
